{
  "nbformat": 4,
  "nbformat_minor": 0,
  "metadata": {
    "colab": {
      "name": "Day 2 session 2 Example programs.ipynb",
      "provenance": [],
      "collapsed_sections": [],
      "authorship_tag": "ABX9TyNLqLWbSHtQ2l48zrtI4REA",
      "include_colab_link": true
    },
    "kernelspec": {
      "name": "python3",
      "display_name": "Python 3"
    }
  },
  "cells": [
    {
      "cell_type": "markdown",
      "metadata": {
        "id": "view-in-github",
        "colab_type": "text"
      },
      "source": [
        "<a href=\"https://colab.research.google.com/github/Felomina75/Python_Workshop/blob/master/Day_2_session_2_Example_programs.ipynb\" target=\"_parent\"><img src=\"https://colab.research.google.com/assets/colab-badge.svg\" alt=\"Open In Colab\"/></a>"
      ]
    },
    {
      "cell_type": "code",
      "metadata": {
        "id": "hFO7OpXWfFcW",
        "colab_type": "code",
        "colab": {}
      },
      "source": [
        ""
      ],
      "execution_count": null,
      "outputs": []
    },
    {
      "cell_type": "markdown",
      "metadata": {
        "id": "B9FPwU-mfk0A",
        "colab_type": "text"
      },
      "source": [
        "#**Program to removes all elements of dictionary dict**"
      ]
    },
    {
      "cell_type": "code",
      "metadata": {
        "id": "URXOqPAqf2eV",
        "colab_type": "code",
        "colab": {
          "base_uri": "https://localhost:8080/",
          "height": 51
        },
        "outputId": "c3092972-2b12-4ed1-bf7a-16a775cd4bbd"
      },
      "source": [
        "#dict.clear()\n",
        "#Removes all elements of dictionary dict\n",
        "\n",
        "dict = {'Name': 'Zara', 'Age': 7};\n",
        "print(\"Start Len : %d\" %  len(dict))\n",
        "dict.clear()\n",
        "print(\"End Len : %d\" %  len(dict))"
      ],
      "execution_count": 1,
      "outputs": [
        {
          "output_type": "stream",
          "text": [
            "Start Len : 2\n",
            "End Len : 0\n"
          ],
          "name": "stdout"
        }
      ]
    },
    {
      "cell_type": "markdown",
      "metadata": {
        "id": "ninJIB4GgErm",
        "colab_type": "text"
      },
      "source": [
        "#**Program to return a list of dict's (key, value) tuple pairs**"
      ]
    },
    {
      "cell_type": "code",
      "metadata": {
        "id": "KKAyRAlUgNQc",
        "colab_type": "code",
        "colab": {
          "base_uri": "https://localhost:8080/",
          "height": 34
        },
        "outputId": "5ebe4e40-7497-4a64-9eb8-be1c127f6a3c"
      },
      "source": [
        "#dict.items()\n",
        "#Returns a list of dict's (key, value) tuple pairs\n",
        "\n",
        "dict = {'Name': 'Zara', 'Age': 7}\n",
        "print (\"Value : %s\" %  dict.items())"
      ],
      "execution_count": 2,
      "outputs": [
        {
          "output_type": "stream",
          "text": [
            "Value : dict_items([('Name', 'Zara'), ('Age', 7)])\n"
          ],
          "name": "stdout"
        }
      ]
    },
    {
      "cell_type": "markdown",
      "metadata": {
        "id": "Qg8ipcaJgR-j",
        "colab_type": "text"
      },
      "source": [
        "#**Program to return a copy of dictionary dict**"
      ]
    },
    {
      "cell_type": "code",
      "metadata": {
        "id": "qAdgwAXwgcGm",
        "colab_type": "code",
        "colab": {
          "base_uri": "https://localhost:8080/",
          "height": 34
        },
        "outputId": "0242e97e-6efd-4554-94a9-882843b81488"
      },
      "source": [
        "# dict.copy()\n",
        "#Returns a copy of dictionary dict\n",
        "\n",
        "dict1 = {'Name': 'Zara', 'Age': 7};\n",
        "dict2 = dict1.copy()\n",
        "print (\"New Dictinary : %s\" %  str(dict2))"
      ],
      "execution_count": 3,
      "outputs": [
        {
          "output_type": "stream",
          "text": [
            "New Dictinary : {'Name': 'Zara', 'Age': 7}\n"
          ],
          "name": "stdout"
        }
      ]
    },
    {
      "cell_type": "markdown",
      "metadata": {
        "id": "YspE2ccxgkSM",
        "colab_type": "text"
      },
      "source": [
        "#**Python Program to Generate a Dictionary that Contains Numbers (between 1 and n) in the Form (x,x*x).** "
      ]
    },
    {
      "cell_type": "code",
      "metadata": {
        "id": "BWiArrH0guJF",
        "colab_type": "code",
        "colab": {
          "base_uri": "https://localhost:8080/",
          "height": 51
        },
        "outputId": "08de9ea1-6581-415b-c7eb-fe1e3bacc387"
      },
      "source": [
        "n=int(input(\"Enter a number:\"))\n",
        "d={x:x*x for x in range(1,n+1)}\n",
        "print(d)"
      ],
      "execution_count": 4,
      "outputs": [
        {
          "output_type": "stream",
          "text": [
            "Enter a number:6\n",
            "{1: 1, 2: 4, 3: 9, 4: 16, 5: 25, 6: 36}\n"
          ],
          "name": "stdout"
        }
      ]
    },
    {
      "cell_type": "markdown",
      "metadata": {
        "id": "tLjaxy16g4rH",
        "colab_type": "text"
      },
      "source": [
        "#**Python Program to Sum All the Items in a Dictionary**"
      ]
    },
    {
      "cell_type": "code",
      "metadata": {
        "id": "__AqqWHjg-C3",
        "colab_type": "code",
        "colab": {
          "base_uri": "https://localhost:8080/",
          "height": 51
        },
        "outputId": "1fae1d92-ddc5-4e8f-8425-2c4be33b32dd"
      },
      "source": [
        "d={'A':100,'B':540,'C':239}\n",
        "print(\"Total sum of values in the dictionary:\")\n",
        "print(sum(d.values()))"
      ],
      "execution_count": 5,
      "outputs": [
        {
          "output_type": "stream",
          "text": [
            "Total sum of values in the dictionary:\n",
            "879\n"
          ],
          "name": "stdout"
        }
      ]
    },
    {
      "cell_type": "markdown",
      "metadata": {
        "id": "PJ3raNUWhFyx",
        "colab_type": "text"
      },
      "source": [
        "#**Python Program to Remove the Given Key from a Dictionary**"
      ]
    },
    {
      "cell_type": "code",
      "metadata": {
        "id": "v7EVGOsQhH7C",
        "colab_type": "code",
        "colab": {
          "base_uri": "https://localhost:8080/",
          "height": 102
        },
        "outputId": "b471ab79-f954-493b-ba15-2af770da0e8e"
      },
      "source": [
        "d = {'a':1,'b':2,'c':3,'d':4}\n",
        "print(\"Initial dictionary\")\n",
        "print(d)\n",
        "key=input(\"Enter the key to delete(a-d):\")\n",
        "if key in d: \n",
        "    del d[key]\n",
        "else:\n",
        "    print(\"Key not found!\")\n",
        "    exit(0)\n",
        "print(\"Updated dictionary\")\n",
        "print(d)"
      ],
      "execution_count": 6,
      "outputs": [
        {
          "output_type": "stream",
          "text": [
            "Initial dictionary\n",
            "{'a': 1, 'b': 2, 'c': 3, 'd': 4}\n",
            "Enter the key to delete(a-d):c\n",
            "Updated dictionary\n",
            "{'a': 1, 'b': 2, 'd': 4}\n"
          ],
          "name": "stdout"
        }
      ]
    },
    {
      "cell_type": "markdown",
      "metadata": {
        "id": "GmZ6EJTHhSMW",
        "colab_type": "text"
      },
      "source": [
        "#**Python Program to add name and mark as key->value pair in  a Dictionary and print it.**"
      ]
    },
    {
      "cell_type": "code",
      "metadata": {
        "id": "ZNElze8-hUi8",
        "colab_type": "code",
        "colab": {
          "base_uri": "https://localhost:8080/",
          "height": 289
        },
        "outputId": "024e0129-49e4-43ca-830a-af38f41b008c"
      },
      "source": [
        "n=int(input(\"Enter no of records\"))\n",
        "d={}\n",
        "for i in range(1,n+1):\n",
        "    name= input(\"Enter name %d\"%(i))\n",
        "    mark=int(input(\"Enter mark %d\"%(i)))\n",
        "    d[name]=mark\n",
        "    print (d)"
      ],
      "execution_count": 7,
      "outputs": [
        {
          "output_type": "stream",
          "text": [
            "Enter no of records5\n",
            "Enter name 1Jasline\n",
            "Enter mark 199\n",
            "{'Jasline': 99}\n",
            "Enter name 2Hanan\n",
            "Enter mark 298\n",
            "{'Jasline': 99, 'Hanan': 98}\n",
            "Enter name 3Krishnitha\n",
            "Enter mark 397\n",
            "{'Jasline': 99, 'Hanan': 98, 'Krishnitha': 97}\n",
            "Enter name 4Felina\n",
            "Enter mark 499\n",
            "{'Jasline': 99, 'Hanan': 98, 'Krishnitha': 97, 'Felina': 99}\n",
            "Enter name 5Felo\n",
            "Enter mark 596\n",
            "{'Jasline': 99, 'Hanan': 98, 'Krishnitha': 97, 'Felina': 99, 'Felo': 96}\n"
          ],
          "name": "stdout"
        }
      ]
    },
    {
      "cell_type": "markdown",
      "metadata": {
        "id": "W1cY2f1ziMqK",
        "colab_type": "text"
      },
      "source": [
        "#**Program of Keys and Values example**"
      ]
    },
    {
      "cell_type": "code",
      "metadata": {
        "id": "0c85F1RkiUaI",
        "colab_type": "code",
        "colab": {
          "base_uri": "https://localhost:8080/",
          "height": 513
        },
        "outputId": "efb2662d-347b-4917-d5f8-a18fd37ec334"
      },
      "source": [
        "d={}\n",
        "print (\" The dictionary elements are\")\n",
        "for i in range(1,21):\n",
        "     d[i]=i**2\n",
        "print (d)\n",
        " # To print key and values\n",
        "print (\" Key==> Value are\")\n",
        "for (k,v) in d.items():\t\n",
        "      print(k,\"==>\",v)\n",
        " # To print key only\n",
        "print (\"\\nTo print key only\")\n",
        "for k in d.keys():\t\n",
        "       print(k, end=\" \")\n",
        "  #To print value only\n",
        "print (\"\\nTo print values only\")\n",
        "for v in d.values():\t\n",
        "      print(v, end=\" \")"
      ],
      "execution_count": 9,
      "outputs": [
        {
          "output_type": "stream",
          "text": [
            " The dictionary elements are\n",
            "{1: 1, 2: 4, 3: 9, 4: 16, 5: 25, 6: 36, 7: 49, 8: 64, 9: 81, 10: 100, 11: 121, 12: 144, 13: 169, 14: 196, 15: 225, 16: 256, 17: 289, 18: 324, 19: 361, 20: 400}\n",
            " Key==> Value are\n",
            "1 ==> 1\n",
            "2 ==> 4\n",
            "3 ==> 9\n",
            "4 ==> 16\n",
            "5 ==> 25\n",
            "6 ==> 36\n",
            "7 ==> 49\n",
            "8 ==> 64\n",
            "9 ==> 81\n",
            "10 ==> 100\n",
            "11 ==> 121\n",
            "12 ==> 144\n",
            "13 ==> 169\n",
            "14 ==> 196\n",
            "15 ==> 225\n",
            "16 ==> 256\n",
            "17 ==> 289\n",
            "18 ==> 324\n",
            "19 ==> 361\n",
            "20 ==> 400\n",
            "\n",
            "To print key only\n",
            "1 2 3 4 5 6 7 8 9 10 11 12 13 14 15 16 17 18 19 20 \n",
            "To print values only\n",
            "1 4 9 16 25 36 49 64 81 100 121 144 169 196 225 256 289 324 361 400 "
          ],
          "name": "stdout"
        }
      ]
    },
    {
      "cell_type": "markdown",
      "metadata": {
        "id": "QvRxZNWgiyFl",
        "colab_type": "text"
      },
      "source": [
        "#**Python program to convert 2 digit number  into words**"
      ]
    },
    {
      "cell_type": "code",
      "metadata": {
        "id": "DFpTSHHYi0_S",
        "colab_type": "code",
        "colab": {
          "base_uri": "https://localhost:8080/",
          "height": 51
        },
        "outputId": "a4214524-48ac-44fd-d3da-3a742ea7fe4c"
      },
      "source": [
        "d={0:'',1:'one',2:'two',3:'three',4:'four',5:'five',6:'six',7:'seven',8:'eight',9:'nine',\\\n",
        "   10:'ten',11:'eleven',12:'twelve',13:'thirteen',14:'fourteen',15:'fifteen',16:'sixteen',\\\n",
        "   17:'seventeen',18:'eightteen',19:'nineteen',20:'twenty',30:'thirty',40:'fourty',50:'fifty',\\\n",
        "   60:'sixty',70:'seventy',80:'eighty',90:'ninty'}\n",
        "\n",
        "num=int(input(\"Enter the integer between 1 to 99:\"))\n",
        "if (num<=20):\n",
        "      print(d[num])\n",
        "if(num>20 and num<100):\n",
        "        if num%10==0:       \n",
        "            print(d[num])\n",
        "        else:\n",
        "            print(d[num//10*10]+\" \"+d[num%10])"
      ],
      "execution_count": 10,
      "outputs": [
        {
          "output_type": "stream",
          "text": [
            "Enter the integer between 1 to 99:55\n",
            "fifty five\n"
          ],
          "name": "stdout"
        }
      ]
    },
    {
      "cell_type": "markdown",
      "metadata": {
        "id": "ZwMgrcsajHQ1",
        "colab_type": "text"
      },
      "source": [
        "#**Python program to sort a dictionary by values**"
      ]
    },
    {
      "cell_type": "code",
      "metadata": {
        "id": "zqY8sogTjOeb",
        "colab_type": "code",
        "colab": {
          "base_uri": "https://localhost:8080/",
          "height": 51
        },
        "outputId": "f2b13987-249e-4428-c431-413e7685f291"
      },
      "source": [
        "d = {\"Pierre\": 42, \"Anne\": 33, \"Zoe\": 24}\n",
        "#Use the sorted function and operator module\n",
        "import operator\n",
        "sorted_d = sorted(d.items(), key=operator.itemgetter(1))\n",
        "print(sorted_d)\n",
        "sorted_a= sorted(d.items(), key=operator.itemgetter(1),reverse=True)\n",
        "print(sorted_a)"
      ],
      "execution_count": 11,
      "outputs": [
        {
          "output_type": "stream",
          "text": [
            "[('Zoe', 24), ('Anne', 33), ('Pierre', 42)]\n",
            "[('Pierre', 42), ('Anne', 33), ('Zoe', 24)]\n"
          ],
          "name": "stdout"
        }
      ]
    },
    {
      "cell_type": "markdown",
      "metadata": {
        "id": "ZG2fLP6Qlc3g",
        "colab_type": "text"
      },
      "source": [
        "#**Files Examples**\n",
        "\n",
        "#**Python Program to count the number of lines in a text file.** \n"
      ]
    },
    {
      "cell_type": "code",
      "metadata": {
        "id": "bpJ9D6kUlvNy",
        "colab_type": "code",
        "colab": {
          "base_uri": "https://localhost:8080/",
          "height": 88
        },
        "outputId": "0e6e010b-2205-4055-9796-15bbc243bfe0"
      },
      "source": [
        "from google.colab import drive\n",
        "drive.mount('/content/drive')\n",
        "#Python Program to count the number of lines in a text file. \n",
        "file = '/content/drive/My Drive/doc.txt'\n",
        "file ='/content/new_file'\n",
        "num_lines = 0\n",
        "with open(file, 'r') as f:\n",
        "  for line in f:\n",
        "   num_lines += 1\n",
        "print(\"Number of lines:\")\n",
        "print(num_lines)"
      ],
      "execution_count": 13,
      "outputs": [
        {
          "output_type": "stream",
          "text": [
            "Drive already mounted at /content/drive; to attempt to forcibly remount, call drive.mount(\"/content/drive\", force_remount=True).\n",
            "Number of lines:\n",
            "3\n"
          ],
          "name": "stdout"
        }
      ]
    },
    {
      "cell_type": "markdown",
      "metadata": {
        "id": "MuraF6QJsOuJ",
        "colab_type": "text"
      },
      "source": [
        "#**Python Program to count the number of words in a text file.**"
      ]
    },
    {
      "cell_type": "code",
      "metadata": {
        "id": "vqhzreg3sRmE",
        "colab_type": "code",
        "colab": {
          "base_uri": "https://localhost:8080/",
          "height": 68
        },
        "outputId": "a1e7d5d0-0d2c-45ad-8e77-00827c4fccc4"
      },
      "source": [
        "#Python Program to count the number of lines in a text file. \n",
        "file = 'drive/My Drive/doc.txt'\n",
        "file ='/content/new_file'\n",
        "num_words = 0\n",
        "with open(file, 'r') as f:\n",
        "   for line in f:\n",
        "    words = line.split()\n",
        "print(words)\n",
        "num_words += len(words)\n",
        "print(\"Number of words:\")\n",
        "print(num_words)"
      ],
      "execution_count": 14,
      "outputs": [
        {
          "output_type": "stream",
          "text": [
            "['Good', 'to', 'see', 'you']\n",
            "Number of words:\n",
            "4\n"
          ],
          "name": "stdout"
        }
      ]
    },
    {
      "cell_type": "markdown",
      "metadata": {
        "id": "jst3_EoZsnZa",
        "colab_type": "text"
      },
      "source": [
        "#**Python Program to count the occurrences of a word in a text file.**"
      ]
    },
    {
      "cell_type": "code",
      "metadata": {
        "id": "oHmppPxYspmc",
        "colab_type": "code",
        "colab": {
          "base_uri": "https://localhost:8080/",
          "height": 68
        },
        "outputId": "726e2b12-41e9-4f12-e045-bb0390cf94cd"
      },
      "source": [
        "fname = 'drive/My Drive/doc.txt'\n",
        "fname ='/content/new_file'\n",
        "word=input(\"Enter word to be searched:\")\n",
        "k = 0\n",
        "\n",
        "with open(fname, 'r') as f:\n",
        "   for line in f:\n",
        "    words = line.split()\n",
        "   for i in words:\n",
        "     if(i==word):\n",
        "      k=k+1\n",
        "print(\"Occurrences of the word:\")\n",
        "print(k)"
      ],
      "execution_count": 16,
      "outputs": [
        {
          "output_type": "stream",
          "text": [
            "Enter word to be searched:Good\n",
            "Occurrences of the word:\n",
            "1\n"
          ],
          "name": "stdout"
        }
      ]
    },
    {
      "cell_type": "markdown",
      "metadata": {
        "id": "odxGGa_iydxU",
        "colab_type": "text"
      },
      "source": [
        "#**Python Program to copy the contents of one file into another.**"
      ]
    },
    {
      "cell_type": "code",
      "metadata": {
        "id": "IB3-kwNeygUO",
        "colab_type": "code",
        "colab": {}
      },
      "source": [
        "file1 = '/content/First'\n",
        "file2 = '/content/Second'\n",
        "   \n",
        "with open(file1,'r') as f:\n",
        "   with open(file2, \"w\") as f1:\n",
        "      for line in f:\n",
        "         f1.write(line)"
      ],
      "execution_count": 19,
      "outputs": []
    },
    {
      "cell_type": "markdown",
      "metadata": {
        "id": "FeZ-K3SqzT3B",
        "colab_type": "text"
      },
      "source": [
        "#**Python Program to read the contents of the file in reverse order.**"
      ]
    },
    {
      "cell_type": "code",
      "metadata": {
        "id": "3ouKy39czWQn",
        "colab_type": "code",
        "colab": {
          "base_uri": "https://localhost:8080/",
          "height": 34
        },
        "outputId": "d0f38f50-aae4-40d9-b693-2de1ac38d892"
      },
      "source": [
        "file = 'drive/My Drive/doc.txt'\n",
        "file ='/content/new_file'\n",
        "with open (file,'r') as f:\n",
        "   for line in f:\n",
        "     l=line.split()\n",
        "     l.reverse() \n",
        "     st= \" \".join(l)\n",
        "print (st)"
      ],
      "execution_count": 20,
      "outputs": [
        {
          "output_type": "stream",
          "text": [
            "you see to Good\n"
          ],
          "name": "stdout"
        }
      ]
    }
  ]
}