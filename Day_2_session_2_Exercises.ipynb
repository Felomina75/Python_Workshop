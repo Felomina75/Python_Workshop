{
  "nbformat": 4,
  "nbformat_minor": 0,
  "metadata": {
    "colab": {
      "name": "Day 2 session 2 Exercises.ipynb",
      "provenance": [],
      "collapsed_sections": [],
      "authorship_tag": "ABX9TyNI074sCKjLPWGpHX55n7gw",
      "include_colab_link": true
    },
    "kernelspec": {
      "name": "python3",
      "display_name": "Python 3"
    }
  },
  "cells": [
    {
      "cell_type": "markdown",
      "metadata": {
        "id": "view-in-github",
        "colab_type": "text"
      },
      "source": [
        "<a href=\"https://colab.research.google.com/github/Felomina75/Python_Workshop/blob/master/Day_2_session_2_Exercises.ipynb\" target=\"_parent\"><img src=\"https://colab.research.google.com/assets/colab-badge.svg\" alt=\"Open In Colab\"/></a>"
      ]
    },
    {
      "cell_type": "code",
      "metadata": {
        "id": "a69FyaFdD1WX",
        "colab_type": "code",
        "colab": {}
      },
      "source": [
        ""
      ],
      "execution_count": null,
      "outputs": []
    },
    {
      "cell_type": "markdown",
      "metadata": {
        "id": "6ObqnbaeD5Wf",
        "colab_type": "text"
      },
      "source": [
        "#**1.\tAdd rollno and marks {name:mark} for n number of students through keyboard in a dictionary and print the marks in descending order with respective name.**"
      ]
    },
    {
      "cell_type": "code",
      "metadata": {
        "id": "6ZfCC0gFEEiC",
        "colab_type": "code",
        "colab": {
          "base_uri": "https://localhost:8080/",
          "height": 238
        },
        "outputId": "1e2e755f-8a86-4b33-ff49-c0fa96c9f54d"
      },
      "source": [
        "n=int(input(\"Enter a number students:\"))\n",
        "d={(input('Enter the name:')):(input('enter the mark:')) for x in range(1,n+1)}\n",
        "import operator\n",
        "print(\"dictionary:\")\n",
        "print(d)\n",
        "sorted_d = sorted(d.items(), key=operator.itemgetter(1))\n",
        "sorted_a= sorted(d.items(), key=operator.itemgetter(1),reverse=True)\n",
        "print(\"In descending:\")\n",
        "print(sorted_a)\n"
      ],
      "execution_count": 1,
      "outputs": [
        {
          "output_type": "stream",
          "text": [
            "Enter a number students:4\n",
            "enter the mark:88\n",
            "Enter the name:felo\n",
            "enter the mark:89\n",
            "Enter the name:ashwini\n",
            "enter the mark:77\n",
            "Enter the name:riya\n",
            "enter the mark:67\n",
            "Enter the name:diya\n",
            "dictionary:\n",
            "{'felo': '88', 'ashwini': '89', 'riya': '77', 'diya': '67'}\n",
            "In descending:\n",
            "[('ashwini', '89'), ('felo', '88'), ('riya', '77'), ('diya', '67')]\n"
          ],
          "name": "stdout"
        }
      ]
    },
    {
      "cell_type": "markdown",
      "metadata": {
        "id": "HG5xq2BRGR-Q",
        "colab_type": "text"
      },
      "source": [
        "#**2.\tAdd  name and salary {name:salary} for n number of employees through keyboard in a dictionary and print them in name alphabetical order with salary**"
      ]
    },
    {
      "cell_type": "code",
      "metadata": {
        "id": "MQHytsKSGUlw",
        "colab_type": "code",
        "colab": {
          "base_uri": "https://localhost:8080/",
          "height": 187
        },
        "outputId": "53f4b11d-9960-4aaa-a93c-d76e4d20180e"
      },
      "source": [
        "n=int(input(\"Enter a number Employees:\"))\n",
        "d={(input('Enter the name:')):(input('enter the salary:')) for x in range(1,n+1)}\n",
        "import operator\n",
        "print(\"dictionary:\")\n",
        "print(d)\n",
        "sorted_d = sorted(d.items(), key=operator.itemgetter(0))\n",
        "print(sorted_d)"
      ],
      "execution_count": 3,
      "outputs": [
        {
          "output_type": "stream",
          "text": [
            "Enter a number Employees:3\n",
            "enter the salary:89000\n",
            "Enter the name:mmm\n",
            "enter the salary:80000\n",
            "Enter the name:hjk\n",
            "enter the salary:79000\n",
            "Enter the name:yhj\n",
            "dictionary:\n",
            "{'mmm': '89000', 'hjk': '80000', 'yhj': '79000'}\n",
            "[('hjk', '80000'), ('mmm', '89000'), ('yhj', '79000')]\n"
          ],
          "name": "stdout"
        }
      ]
    },
    {
      "cell_type": "markdown",
      "metadata": {
        "id": "UVXtlzHEGvo3",
        "colab_type": "text"
      },
      "source": [
        "#**3.\tAdd  name and salary {name:salary} for n number of employees through keyboard in a dictionary and print them in salary  ascending order and sum, max, min and average of the salaries**"
      ]
    },
    {
      "cell_type": "code",
      "metadata": {
        "id": "x4N2FrzfGyAk",
        "colab_type": "code",
        "colab": {
          "base_uri": "https://localhost:8080/",
          "height": 238
        },
        "outputId": "488a1cd9-a153-499b-c2d1-7a40a3362b15"
      },
      "source": [
        "n=int(input(\"Enter a number employee:\"))\n",
        "d={(input('Enter the name:')):int(input('enter the salary:')) for x in range(1,n+1)}\n",
        "import operator\n",
        "print(\"dictionary:\")\n",
        "print(d)\n",
        "sorted_d = sorted(d.items(), key=operator.itemgetter(1))\n",
        "print(\"In ascending order salary:\")\n",
        "print(sorted_d)\n",
        "print(\"sum:\",sum(d.values()))\n",
        "print(\"max:\",max(d.values()))\n",
        "print(\"min:\",min(d.values()))\n",
        "print(\"average:\",sum(d.values())/n)"
      ],
      "execution_count": 4,
      "outputs": [
        {
          "output_type": "stream",
          "text": [
            "Enter a number employee:2\n",
            "enter the salary:67000\n",
            "Enter the name:uuu\n",
            "enter the salary:78000\n",
            "Enter the name:jjk\n",
            "dictionary:\n",
            "{'uuu': 67000, 'jjk': 78000}\n",
            "In ascending order salary:\n",
            "[('uuu', 67000), ('jjk', 78000)]\n",
            "sum: 145000\n",
            "max: 78000\n",
            "min: 67000\n",
            "average: 72500.0\n"
          ],
          "name": "stdout"
        }
      ]
    },
    {
      "cell_type": "markdown",
      "metadata": {
        "id": "EZnpJJX2G_s1",
        "colab_type": "text"
      },
      "source": [
        "#**4.\tAdd name and salary {name:salary} for n number of employees through keyboard in a dictionary and print only the employees whose salary is greater than 2000 but less than 4000**"
      ]
    },
    {
      "cell_type": "code",
      "metadata": {
        "id": "Vqfs8s5kHCrO",
        "colab_type": "code",
        "colab": {
          "base_uri": "https://localhost:8080/",
          "height": 170
        },
        "outputId": "47b3c9fd-5edd-4e2d-f19d-427c33ce724e"
      },
      "source": [
        "dict={}\n",
        "n=int(input(\"enter the no of employees\"))\n",
        "for i in range(n):\n",
        "  name=input(\"Enter the name\")\n",
        "  marks=int(input(\"Enter the salary\"))\n",
        "  dict[name]=marks\n",
        "print(dict)\n",
        "res={key:val for key, val in dict.items() if val>2000 and val<4000}\n",
        "print(res)"
      ],
      "execution_count": 5,
      "outputs": [
        {
          "output_type": "stream",
          "text": [
            "enter the no of employees3\n",
            "Enter the namefelo\n",
            "Enter the salary3000\n",
            "Enter the namejoyson\n",
            "Enter the salary3500\n",
            "Enter the nameriya\n",
            "Enter the salary1500\n",
            "{'felo': 3000, 'joyson': 3500, 'riya': 1500}\n",
            "{'felo': 3000, 'joyson': 3500}\n"
          ],
          "name": "stdout"
        }
      ]
    },
    {
      "cell_type": "markdown",
      "metadata": {
        "id": "2zGc2pOiHXqw",
        "colab_type": "text"
      },
      "source": [
        "#**5.\tPython program to convert a 3 digit number  into words**"
      ]
    },
    {
      "cell_type": "code",
      "metadata": {
        "id": "yTok_rFVHZyK",
        "colab_type": "code",
        "colab": {
          "base_uri": "https://localhost:8080/",
          "height": 51
        },
        "outputId": "9b8a3271-ba01-40bc-e1c4-6730852e7ef5"
      },
      "source": [
        "d={0:'',1:'one',2:'two',3:'three',4:'four',5:'five',6:'six',7:'seven',8:'eight',9:'nine',\\\n",
        "   10:'ten',11:'eleven',12:'twelve',13:'thirteen',14:'fourteen',15:'fifteen',16:'sixteen',\\\n",
        "   17:'seventeen',18:'eightteen',19:'nineteen',20:'twenty',30:'thirty',40:'fourty',50:'fifty',\\\n",
        "   60:'sixty',70:'seventy',80:'eighty',90:'ninty',100:'hundred',200:'twohundred',300:'threehundred',400:'fourhundred',500:'fivehundred',600:'sixhundred',700:'sevenhundred',800:'eighthundred',900:'ninehundred'}\n",
        "num=int(input(\"Enter the integer between 1 to 999:\"))\n",
        "if (num<=20):\n",
        "      print(d[num])\n",
        "if(num>20 and num<1000):\n",
        "        if num%10==0:       \n",
        "            print(d[num])\n",
        "        else:\n",
        "            print(d[num//10*10]+\" \"+d[num%10])"
      ],
      "execution_count": 7,
      "outputs": [
        {
          "output_type": "stream",
          "text": [
            "Enter the integer between 1 to 999:508\n",
            "fivehundred eight\n"
          ],
          "name": "stdout"
        }
      ]
    },
    {
      "cell_type": "markdown",
      "metadata": {
        "id": "vQC7jQqRH0Px",
        "colab_type": "text"
      },
      "source": [
        "#**Files Exercises**\n",
        "#**1.Python Program to count the total number of charaters (except blank space) in a text file.**"
      ]
    },
    {
      "cell_type": "code",
      "metadata": {
        "id": "mQ7Gkge6H7sR",
        "colab_type": "code",
        "colab": {
          "base_uri": "https://localhost:8080/",
          "height": 51
        },
        "outputId": "db905ee2-6d65-4cc9-dc8e-6cf85b11e69d"
      },
      "source": [
        "fname = input(\"Enter the name of the file:\")\n",
        "infile = open(fname, 'r')\n",
        "lines = 0\n",
        "words = 0\n",
        "characters = 0\n",
        "for line in infile:\n",
        "    wordslist = line.split()\n",
        "    lines = lines + 1\n",
        "    words = words + len(wordslist)\n",
        "    characters = characters + len(line)\n",
        "print(characters)"
      ],
      "execution_count": 9,
      "outputs": [
        {
          "output_type": "stream",
          "text": [
            "Enter the name of the file:/content/new_file\n",
            "13\n"
          ],
          "name": "stdout"
        }
      ]
    },
    {
      "cell_type": "markdown",
      "metadata": {
        "id": "fVRSnupkIUPU",
        "colab_type": "text"
      },
      "source": [
        "#**2.Python Program to print all the numbers present in a text file with its total number of occurrence.**"
      ]
    },
    {
      "cell_type": "code",
      "metadata": {
        "id": "nj40DFQEIWOB",
        "colab_type": "code",
        "colab": {
          "base_uri": "https://localhost:8080/",
          "height": 51
        },
        "outputId": "81cb78bc-59bf-41ec-ef98-ca5e08fdf485"
      },
      "source": [
        "fname = input(\"Enter the name of the file:\")\n",
        "infile = open(fname, 'r')\n",
        "content = infile.readlines() \n",
        "a = 0\n",
        "for line in content: \n",
        "    for i in line:  \n",
        "        if i.isdigit() == True: \n",
        "          a=a+1\n",
        "print(\"The total numbers in a text file is:\", a)"
      ],
      "execution_count": 10,
      "outputs": [
        {
          "output_type": "stream",
          "text": [
            "Enter the name of the file:/content/new_file\n",
            "The total numbers in a text file is: 3\n"
          ],
          "name": "stdout"
        }
      ]
    },
    {
      "cell_type": "markdown",
      "metadata": {
        "id": "EWdanqknIliI",
        "colab_type": "text"
      },
      "source": [
        "#**3.Python Program to append the contents of one file to another file**"
      ]
    },
    {
      "cell_type": "code",
      "metadata": {
        "id": "3Kbl3yvrIo05",
        "colab_type": "code",
        "colab": {
          "base_uri": "https://localhost:8080/",
          "height": 51
        },
        "outputId": "7df7bec7-3af3-47f9-ab01-2f849e6accab"
      },
      "source": [
        "name1 = input(\"Enter file to be read from: \")\n",
        "name2 = input(\"Enter file to be appended to: \")\n",
        "fin = open(name1, \"r\")\n",
        "data2 = fin.read()\n",
        "fin.close()\n",
        "fout = open(name2, \"a\")\n",
        "fout.write(data2)\n",
        "fout.close()"
      ],
      "execution_count": 12,
      "outputs": [
        {
          "output_type": "stream",
          "text": [
            "Enter file to be read from: /content/new_file\n",
            "Enter file to be appended to: /content/first\n"
          ],
          "name": "stdout"
        }
      ]
    },
    {
      "cell_type": "markdown",
      "metadata": {
        "id": "pM2cF684JCna",
        "colab_type": "text"
      },
      "source": [
        "#**4.Python Program to count the number of blank spaces in a text file.**"
      ]
    },
    {
      "cell_type": "code",
      "metadata": {
        "id": "s33gBGlVJmFP",
        "colab_type": "code",
        "colab": {
          "base_uri": "https://localhost:8080/",
          "height": 68
        },
        "outputId": "c5117d1b-ab9f-4024-c72e-e65b7630e469"
      },
      "source": [
        "fname = input(\"Enter file name: \")\n",
        "k = 0\n",
        "\n",
        "with open(fname, 'r') as f:\n",
        "    for line in f:\n",
        "        words = line.split()\n",
        "        for i in words:\n",
        "            for letter in i:\n",
        "                if(letter.isspace):\n",
        "                    k=k+1\n",
        "print(\"Occurrences of blank spaces:\")\n",
        "print(k)"
      ],
      "execution_count": 13,
      "outputs": [
        {
          "output_type": "stream",
          "text": [
            "Enter file name: /content/new_file\n",
            "Occurrences of blank spaces:\n",
            "19\n"
          ],
          "name": "stdout"
        }
      ]
    },
    {
      "cell_type": "markdown",
      "metadata": {
        "id": "RnorX2XMJvtB",
        "colab_type": "text"
      },
      "source": [
        "#**5.Python Program to read a file and capitalize the first letter of every word in the file and copy the every word capitalized content  into another file and read it .**"
      ]
    },
    {
      "cell_type": "code",
      "metadata": {
        "id": "d26l3GcgJykN",
        "colab_type": "code",
        "colab": {
          "base_uri": "https://localhost:8080/",
          "height": 85
        },
        "outputId": "033dae51-c6fe-40f0-9405-28816bb38cca"
      },
      "source": [
        "fname = input(\"Enter file name: \")\n",
        "with open(fname, 'r') as f:\n",
        "    for line in f:\n",
        "        l=line.title()\n",
        "        print(l)"
      ],
      "execution_count": 14,
      "outputs": [
        {
          "output_type": "stream",
          "text": [
            "Enter file name: /content/first\n",
            "Good Morning\n",
            "\n",
            "1 2 Hello 5\n"
          ],
          "name": "stdout"
        }
      ]
    }
  ]
}