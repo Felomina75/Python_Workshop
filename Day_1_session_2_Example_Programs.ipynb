{
  "nbformat": 4,
  "nbformat_minor": 0,
  "metadata": {
    "colab": {
      "name": "Day 1 session 2 Example Programs.ipynb",
      "provenance": [],
      "collapsed_sections": [],
      "authorship_tag": "ABX9TyOTGZ385R9CeNXkjbRAoFIx",
      "include_colab_link": true
    },
    "kernelspec": {
      "name": "python3",
      "display_name": "Python 3"
    }
  },
  "cells": [
    {
      "cell_type": "markdown",
      "metadata": {
        "id": "view-in-github",
        "colab_type": "text"
      },
      "source": [
        "<a href=\"https://colab.research.google.com/github/Felomina75/Python_Workshop/blob/master/Day_1_session_2_Example_Programs.ipynb\" target=\"_parent\"><img src=\"https://colab.research.google.com/assets/colab-badge.svg\" alt=\"Open In Colab\"/></a>"
      ]
    },
    {
      "cell_type": "code",
      "metadata": {
        "id": "JwbFNaZUiGtb",
        "colab_type": "code",
        "colab": {}
      },
      "source": [
        ""
      ],
      "execution_count": null,
      "outputs": []
    },
    {
      "cell_type": "markdown",
      "metadata": {
        "id": "2onyrITQiRsY",
        "colab_type": "text"
      },
      "source": [
        "#Python Program to find the factorial of a number using loop. "
      ]
    },
    {
      "cell_type": "code",
      "metadata": {
        "id": "oG9avuvbiVVU",
        "colab_type": "code",
        "colab": {
          "base_uri": "https://localhost:8080/",
          "height": 68
        },
        "outputId": "07bef25c-dc3b-4d69-8897-67a8a2fb075f"
      },
      "source": [
        "n=int(input(\"Enter number:\"))\n",
        "fact=1\n",
        "\n",
        "while(n>0):\n",
        "    fact=fact*n\n",
        "    n=n-1\n",
        "print(\"Factorial of the number is: \")\n",
        "print(fact)"
      ],
      "execution_count": 2,
      "outputs": [
        {
          "output_type": "stream",
          "text": [
            "Enter number:5\n",
            "Factorial of the number is: \n",
            "120\n"
          ],
          "name": "stdout"
        }
      ]
    },
    {
      "cell_type": "markdown",
      "metadata": {
        "id": "CoOyrZYXi0Sr",
        "colab_type": "text"
      },
      "source": [
        "#Python Program to reverse a number using loop "
      ]
    },
    {
      "cell_type": "code",
      "metadata": {
        "id": "36ozyKCWi1L4",
        "colab_type": "code",
        "colab": {
          "base_uri": "https://localhost:8080/",
          "height": 68
        },
        "outputId": "d59183bd-dd74-4461-bb54-0b6a22a566b2"
      },
      "source": [
        "r=0\n",
        "n=int(input(\"Enter a number: \"))\n",
        "while(n>0):\n",
        "    dig=n%10\n",
        "    r=r*10+dig\n",
        "    n=n//10\n",
        "print(\"The reversed no  is:\")\n",
        "print(r)"
      ],
      "execution_count": 3,
      "outputs": [
        {
          "output_type": "stream",
          "text": [
            "Enter a number: 345215\n",
            "The reversed no  is:\n",
            "512543\n"
          ],
          "name": "stdout"
        }
      ]
    },
    {
      "cell_type": "markdown",
      "metadata": {
        "id": "tkSycIYRi_o3",
        "colab_type": "text"
      },
      "source": [
        "#Write a Python program to construct the following pattern, using a nested for loop.\n",
        "* \n",
        "* * \n",
        "* * * \n",
        "* * * * \n",
        "* * * * * \n",
        "* * * * \n",
        "* * * \n",
        "* * \n",
        "*\n"
      ]
    },
    {
      "cell_type": "code",
      "metadata": {
        "id": "IidiDpRSjk9W",
        "colab_type": "code",
        "colab": {
          "base_uri": "https://localhost:8080/",
          "height": 187
        },
        "outputId": "ac97af20-c399-4708-c47d-ac615d28511f"
      },
      "source": [
        "n=5;\n",
        "for i in range(n):\n",
        "    for j in range(i):\n",
        "        print ('* ', end=\"\")\n",
        "    print('')\n",
        "\n",
        "for i in range(n,0,-1):\n",
        "    for j in range(i):\n",
        "        print('* ', end=\"\")\n",
        "    print('')"
      ],
      "execution_count": 4,
      "outputs": [
        {
          "output_type": "stream",
          "text": [
            "\n",
            "* \n",
            "* * \n",
            "* * * \n",
            "* * * * \n",
            "* * * * * \n",
            "* * * * \n",
            "* * * \n",
            "* * \n",
            "* \n"
          ],
          "name": "stdout"
        }
      ]
    },
    {
      "cell_type": "markdown",
      "metadata": {
        "id": "8GWQhxYYjLE2",
        "colab_type": "text"
      },
      "source": [
        ""
      ]
    },
    {
      "cell_type": "markdown",
      "metadata": {
        "id": "ezoeWd-mj1Z1",
        "colab_type": "text"
      },
      "source": [
        ""
      ]
    },
    {
      "cell_type": "markdown",
      "metadata": {
        "id": "wF31-Jx6j4iT",
        "colab_type": "text"
      },
      "source": [
        "#Python Program to replace all occurrences of ‘a’ with ‘$’ in a string. "
      ]
    },
    {
      "cell_type": "code",
      "metadata": {
        "id": "TaxThUCPj6Br",
        "colab_type": "code",
        "colab": {
          "base_uri": "https://localhost:8080/",
          "height": 68
        },
        "outputId": "5d16de27-c442-4b76-c20c-381ea1ed0822"
      },
      "source": [
        "string=input(\"Enter string:\")\n",
        "string=string.replace('a','$')\n",
        "string=string.replace('A','$')\n",
        "print(\"Modified string:\")\n",
        "print(string)\n"
      ],
      "execution_count": 5,
      "outputs": [
        {
          "output_type": "stream",
          "text": [
            "Enter string:This is a good day.\n",
            "Modified string:\n",
            "This is $ good d$y.\n"
          ],
          "name": "stdout"
        }
      ]
    },
    {
      "cell_type": "markdown",
      "metadata": {
        "id": "2BlVxJH1kHoX",
        "colab_type": "text"
      },
      "source": [
        "#Python Program to remove the nth index character from a non-empty string. "
      ]
    },
    {
      "cell_type": "code",
      "metadata": {
        "id": "DgjLpGmskI3e",
        "colab_type": "code",
        "colab": {
          "base_uri": "https://localhost:8080/",
          "height": 85
        },
        "outputId": "ce8e2788-438f-41c0-cfd7-6c20a3575ca9"
      },
      "source": [
        "def remove(string, n):  \n",
        "      first = string[:n]   \n",
        "      last = string[n+1:]  \n",
        "      return first + last\n",
        "string=input(\"Enter the sring:\")\n",
        "n=int(input(\"Enter the index of the character to remove:\"))\n",
        "print(\"Modified string:\")\n",
        "print(remove(string, n))\n"
      ],
      "execution_count": 6,
      "outputs": [
        {
          "output_type": "stream",
          "text": [
            "Enter the sring:good\n",
            "Enter the index of the character to remove:3\n",
            "Modified string:\n",
            "goo\n"
          ],
          "name": "stdout"
        }
      ]
    },
    {
      "cell_type": "markdown",
      "metadata": {
        "id": "kHjEOH3GkdLZ",
        "colab_type": "text"
      },
      "source": [
        "#Python Program to detect if two strings are anagrams. "
      ]
    },
    {
      "cell_type": "code",
      "metadata": {
        "id": "_x7XOuDikeSF",
        "colab_type": "code",
        "colab": {
          "base_uri": "https://localhost:8080/",
          "height": 68
        },
        "outputId": "7c1db89d-116c-4262-f6b1-9daae9d6e5cb"
      },
      "source": [
        "s1=input(\"Enter first string:\")\n",
        "s2=input(\"Enter second string:\")\n",
        "if(sorted(s1)==sorted(s2)):\n",
        "      print(\"The strings are anagrams.\")\n",
        "else:\n",
        "      print(\"The strings aren't anagrams.\")"
      ],
      "execution_count": 7,
      "outputs": [
        {
          "output_type": "stream",
          "text": [
            "Enter first string:Felina\n",
            "Enter second string:Finale\n",
            "The strings are anagrams.\n"
          ],
          "name": "stdout"
        }
      ]
    },
    {
      "cell_type": "markdown",
      "metadata": {
        "id": "MwtXJA2wkph3",
        "colab_type": "text"
      },
      "source": [
        "#Python Program to form a string where the first character and the last character have been exchanged. "
      ]
    },
    {
      "cell_type": "code",
      "metadata": {
        "id": "D6PRGDVTkqgQ",
        "colab_type": "code",
        "colab": {
          "base_uri": "https://localhost:8080/",
          "height": 68
        },
        "outputId": "7cc02684-aa39-4fa9-a12f-d4cf742515ad"
      },
      "source": [
        "def change(string):\n",
        "      return string[-1:] + string[1:-1] + string[:1]\n",
        "string=input(\"Enter string:\")\n",
        "print(\"Modified string:\")\n",
        "print(change(string))"
      ],
      "execution_count": 8,
      "outputs": [
        {
          "output_type": "stream",
          "text": [
            "Enter string:oelf\n",
            "Modified string:\n",
            "felo\n"
          ],
          "name": "stdout"
        }
      ]
    },
    {
      "cell_type": "markdown",
      "metadata": {
        "id": "RHcxCobtk8JZ",
        "colab_type": "text"
      },
      "source": [
        "#Python Program to  count number of vowels from a non-empty string. "
      ]
    },
    {
      "cell_type": "code",
      "metadata": {
        "id": "I8kfuRTCk9VY",
        "colab_type": "code",
        "colab": {
          "base_uri": "https://localhost:8080/",
          "height": 68
        },
        "outputId": "fe0fcedb-65d5-454b-880a-1aa83deaeb60"
      },
      "source": [
        "string=input(\"Enter string:\")\n",
        "vowels=0\n",
        "for i in string:\n",
        "      if(i=='a' or i=='e' or i=='i' or i=='o' or i=='u' or i=='A' or i=='E' or i=='I' or i=='O' or i=='U'):\n",
        "            vowels=vowels+1\n",
        "print(\"Number of vowels are:\")\n",
        "print(vowels)"
      ],
      "execution_count": 9,
      "outputs": [
        {
          "output_type": "stream",
          "text": [
            "Enter string:Aeroplane\n",
            "Number of vowels are:\n",
            "5\n"
          ],
          "name": "stdout"
        }
      ]
    },
    {
      "cell_type": "markdown",
      "metadata": {
        "id": "2zbjRAtolKh4",
        "colab_type": "text"
      },
      "source": [
        "#Program for Divide by zero error detection"
      ]
    },
    {
      "cell_type": "code",
      "metadata": {
        "id": "nZzLfcLElLdv",
        "colab_type": "code",
        "colab": {
          "base_uri": "https://localhost:8080/",
          "height": 170
        },
        "outputId": "7d0bf4e5-2d08-41d5-e2fa-52cbb15fe7d3"
      },
      "source": [
        "flag = True\n",
        "\n",
        "def div(a, b):  \n",
        "       try:\n",
        "            print(\"Finally the division of %d/%d is %f\" % (a, b,a/b))\n",
        "            global flag\n",
        "            flag=False\n",
        "       except ZeroDivisionError:\n",
        "            print(\"Zero Division Error detected\")\n",
        "       else:\n",
        "            print(\"Division is successful\") \n",
        "       finally:\n",
        "            if flag is True:\n",
        "               print(\"Try again\")     \n",
        "            else:\n",
        "               print(\"Thank you\")\n",
        "       \n",
        "#global flag\n",
        "\n",
        "while flag is True:\n",
        "    div(int(input(\"Enter numerator\")),int(input(\"Enter denominator\")))"
      ],
      "execution_count": 10,
      "outputs": [
        {
          "output_type": "stream",
          "text": [
            "Enter numerator5\n",
            "Enter denominator0\n",
            "Zero Division Error detected\n",
            "Try again\n",
            "Enter numerator5\n",
            "Enter denominator6\n",
            "Finally the division of 5/6 is 0.833333\n",
            "Division is successful\n",
            "Thank you\n"
          ],
          "name": "stdout"
        }
      ]
    },
    {
      "cell_type": "markdown",
      "metadata": {
        "id": "hT0EqMTklbyU",
        "colab_type": "text"
      },
      "source": [
        "#Program for ValueError error detection"
      ]
    },
    {
      "cell_type": "code",
      "metadata": {
        "id": "_5agbrEolc60",
        "colab_type": "code",
        "colab": {
          "base_uri": "https://localhost:8080/",
          "height": 85
        },
        "outputId": "ae58e80a-7866-4b19-97ee-bffbdf9245ad"
      },
      "source": [
        "while True:\n",
        "     try:\n",
        "         x = int(input(\"Please enter a number: \"))\n",
        "         print(\" That was valid number. Thank you\")\n",
        "         break\n",
        "     except ValueError:\n",
        "         print(\"Oops!  That was no valid number.  Try again...\")"
      ],
      "execution_count": 11,
      "outputs": [
        {
          "output_type": "stream",
          "text": [
            "Please enter a number: 5.7\n",
            "Oops!  That was no valid number.  Try again...\n",
            "Please enter a number: 7\n",
            " That was valid number. Thank you\n"
          ],
          "name": "stdout"
        }
      ]
    }
  ]
}