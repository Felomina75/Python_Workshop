{
  "nbformat": 4,
  "nbformat_minor": 0,
  "metadata": {
    "colab": {
      "name": "Day 1 session 2 Exercises.ipynb",
      "provenance": [],
      "collapsed_sections": [],
      "authorship_tag": "ABX9TyP8QJObRr3Juhtom+tPgqO2",
      "include_colab_link": true
    },
    "kernelspec": {
      "name": "python3",
      "display_name": "Python 3"
    }
  },
  "cells": [
    {
      "cell_type": "markdown",
      "metadata": {
        "id": "view-in-github",
        "colab_type": "text"
      },
      "source": [
        "<a href=\"https://colab.research.google.com/github/Felomina75/Python_Workshop/blob/master/Day_1_session_2_Exercises.ipynb\" target=\"_parent\"><img src=\"https://colab.research.google.com/assets/colab-badge.svg\" alt=\"Open In Colab\"/></a>"
      ]
    },
    {
      "cell_type": "code",
      "metadata": {
        "id": "gDGJryKYrYs_",
        "colab_type": "code",
        "colab": {}
      },
      "source": [
        ""
      ],
      "execution_count": null,
      "outputs": []
    },
    {
      "cell_type": "markdown",
      "metadata": {
        "id": "mK_GcfqercLd",
        "colab_type": "text"
      },
      "source": [
        "#**1. Write a program to print the triangle**\n",
        "#**i/p  4**\n",
        "#**1**\n",
        "#**2    3**\n",
        "#**3    4   5**\n",
        "#**4    5   6   7**"
      ]
    },
    {
      "cell_type": "code",
      "metadata": {
        "id": "fC0Prs2Zr_Ct",
        "colab_type": "code",
        "colab": {
          "base_uri": "https://localhost:8080/",
          "height": 136
        },
        "outputId": "c5bee311-8563-4d75-f78b-7d64cc963022"
      },
      "source": [
        "n = int(input('Enter the number'))\n",
        "for i in range(n+1):\n",
        "    for j in range(i):\n",
        "        k=i+j\n",
        "        print (k , end=\" \")\n",
        "    print('')"
      ],
      "execution_count": 1,
      "outputs": [
        {
          "output_type": "stream",
          "text": [
            "Enter the number5\n",
            "\n",
            "1 \n",
            "2 3 \n",
            "3 4 5 \n",
            "4 5 6 7 \n",
            "5 6 7 8 9 \n"
          ],
          "name": "stdout"
        }
      ]
    },
    {
      "cell_type": "markdown",
      "metadata": {
        "id": "oH9K5AZSsQ4H",
        "colab_type": "text"
      },
      "source": [
        "#**2.Enter number 4**\n",
        "\n",
        "#*\n",
        "#* *\n",
        "#* * *\n",
        "#* * * * \n"
      ]
    },
    {
      "cell_type": "code",
      "metadata": {
        "id": "AfuANteXsgf8",
        "colab_type": "code",
        "colab": {
          "base_uri": "https://localhost:8080/",
          "height": 153
        },
        "outputId": "f7ac88f8-5eed-4e24-e2ba-1f9aa65d1704"
      },
      "source": [
        "n = int(input('Enter the number'))\n",
        "for i in range(n+1):\n",
        "    for j in range(i):\n",
        "        print ('*  ' , end=\"\")\n",
        "    print('')"
      ],
      "execution_count": 2,
      "outputs": [
        {
          "output_type": "stream",
          "text": [
            "Enter the number6\n",
            "\n",
            "*  \n",
            "*  *  \n",
            "*  *  *  \n",
            "*  *  *  *  \n",
            "*  *  *  *  *  \n",
            "*  *  *  *  *  *  \n"
          ],
          "name": "stdout"
        }
      ]
    },
    {
      "cell_type": "markdown",
      "metadata": {
        "id": "ihhF_C2GsrAS",
        "colab_type": "text"
      },
      "source": [
        "#**3. Enter number 5**\n",
        "\n",
        "#**5**\n",
        "#**4 5**\n",
        "#**3 4 5**\n",
        "#**2 3 4 5**\n",
        "#**1 2 3 4 5**\n"
      ]
    },
    {
      "cell_type": "code",
      "metadata": {
        "id": "7JOxVSZgtBdq",
        "colab_type": "code",
        "colab": {
          "base_uri": "https://localhost:8080/",
          "height": 153
        },
        "outputId": "bf4061ac-5eb4-4531-8921-9671cc5400c5"
      },
      "source": [
        "n= int(input('Enter the number'))\n",
        "for i in range(n+1):\n",
        "    k=n-i+1\n",
        "    for j in range(i):\n",
        "        print (k, end=\" \")\n",
        "        k=k+1\n",
        "    print('')"
      ],
      "execution_count": 3,
      "outputs": [
        {
          "output_type": "stream",
          "text": [
            "Enter the number6\n",
            "\n",
            "6 \n",
            "5 6 \n",
            "4 5 6 \n",
            "3 4 5 6 \n",
            "2 3 4 5 6 \n",
            "1 2 3 4 5 6 \n"
          ],
          "name": "stdout"
        }
      ]
    },
    {
      "cell_type": "markdown",
      "metadata": {
        "id": "xo9KeOSMt6Oa",
        "colab_type": "text"
      },
      "source": [
        "#**4. Enter number 5**\n",
        "\n",
        "#**5 4 3 2 1**\n",
        "#**4 3 2 1**\n",
        "#**3 2 1**\n",
        "#**2 1**\n",
        "#**1**\n"
      ]
    },
    {
      "cell_type": "code",
      "metadata": {
        "id": "vg1ogNwBuKUZ",
        "colab_type": "code",
        "colab": {
          "base_uri": "https://localhost:8080/",
          "height": 170
        },
        "outputId": "52fcd8bb-560c-4fd0-a029-2c112e4dbc13"
      },
      "source": [
        "n= int(input('Enter the number'))\n",
        "for i in range(n+1):\n",
        "    k=n-i\n",
        "    for j in range(n-i):\n",
        "        print (k, end=\" \")\n",
        "        k=k-1\n",
        "    print('')"
      ],
      "execution_count": 4,
      "outputs": [
        {
          "output_type": "stream",
          "text": [
            "Enter the number7\n",
            "7 6 5 4 3 2 1 \n",
            "6 5 4 3 2 1 \n",
            "5 4 3 2 1 \n",
            "4 3 2 1 \n",
            "3 2 1 \n",
            "2 1 \n",
            "1 \n",
            "\n"
          ],
          "name": "stdout"
        }
      ]
    },
    {
      "cell_type": "markdown",
      "metadata": {
        "id": "aQesrQWGubyc",
        "colab_type": "text"
      },
      "source": [
        "#**5. Enter number 4**\n",
        "\n",
        "#**1 2 3 4**\n",
        "#**2 3 4**\n",
        "#**3 4**\n",
        "#**4**\n",
        "#**3 4**\n",
        "#**2 3 4**\n",
        "#**1 2 3 4**\n"
      ]
    },
    {
      "cell_type": "code",
      "metadata": {
        "id": "9OC_YCXXurjc",
        "colab_type": "code",
        "colab": {
          "base_uri": "https://localhost:8080/",
          "height": 187
        },
        "outputId": "1550dac3-3922-46d3-bfab-2b7d6cfc9766"
      },
      "source": [
        "n= int(input('Enter the number'))\n",
        "for i in range(n+1):\n",
        "    k=i+1\n",
        "    for j in range(n-i):\n",
        "        print (k, end=\" \")\n",
        "        k=k+1\n",
        "    if (i+1) != (n+1):\n",
        "        print('')\n",
        "for i in range(n-1):\n",
        "    k=n-i-1\n",
        "    for j in range(i+2):\n",
        "        print (k, end=\" \")\n",
        "        k=k+1\n",
        "    print('')"
      ],
      "execution_count": 5,
      "outputs": [
        {
          "output_type": "stream",
          "text": [
            "Enter the number5\n",
            "1 2 3 4 5 \n",
            "2 3 4 5 \n",
            "3 4 5 \n",
            "4 5 \n",
            "5 \n",
            "4 5 \n",
            "3 4 5 \n",
            "2 3 4 5 \n",
            "1 2 3 4 5 \n"
          ],
          "name": "stdout"
        }
      ]
    },
    {
      "cell_type": "markdown",
      "metadata": {
        "id": "IdQGMYk6u6rM",
        "colab_type": "text"
      },
      "source": [
        "#**6.Find the length of a string without using len functions**"
      ]
    },
    {
      "cell_type": "code",
      "metadata": {
        "id": "DEr10picu_vu",
        "colab_type": "code",
        "colab": {
          "base_uri": "https://localhost:8080/",
          "height": 68
        },
        "outputId": "de0fead6-a4b2-4555-a26b-c3e5f5ffa767"
      },
      "source": [
        "string=input(\"Enter string:\")\n",
        "count=0\n",
        "for i in string:\n",
        "    count=count+1\n",
        "print(\"Length of string is:\")\n",
        "print(count)"
      ],
      "execution_count": 6,
      "outputs": [
        {
          "output_type": "stream",
          "text": [
            "Enter string:Good\n",
            "Length of string is:\n",
            "4\n"
          ],
          "name": "stdout"
        }
      ]
    },
    {
      "cell_type": "markdown",
      "metadata": {
        "id": "hGkMk194vIOD",
        "colab_type": "text"
      },
      "source": [
        "#**7. Find the no of words and characters in a string**"
      ]
    },
    {
      "cell_type": "code",
      "metadata": {
        "id": "8wPJUf4xvMza",
        "colab_type": "code",
        "colab": {
          "base_uri": "https://localhost:8080/",
          "height": 102
        },
        "outputId": "7d7f85f5-430c-4da4-8d24-e87d769e9474"
      },
      "source": [
        "string=input(\"Enter string:\")\n",
        "char=0\n",
        "word=0\n",
        "for i in string:\n",
        "      if(i==' '):\n",
        "            if(char!=0):\n",
        "                  word=word+1\n",
        "      char=char+1\n",
        "if(char!=0):            \n",
        "      word=word+1\n",
        "print(\"Number of words is:\")\n",
        "print(word)\n",
        "print(\"Number of characters is:\")\n",
        "print(char)"
      ],
      "execution_count": 7,
      "outputs": [
        {
          "output_type": "stream",
          "text": [
            "Enter string:It is a Amazing day\n",
            "Number of words is:\n",
            "5\n",
            "Number of characters is:\n",
            "19\n"
          ],
          "name": "stdout"
        }
      ]
    },
    {
      "cell_type": "markdown",
      "metadata": {
        "id": "_-RSYD99vbXf",
        "colab_type": "text"
      },
      "source": [
        "#**8. Find the no of occurrences of a word in a string**\n",
        "\n"
      ]
    },
    {
      "cell_type": "code",
      "metadata": {
        "id": "Rs9aupw_ve6u",
        "colab_type": "code",
        "colab": {
          "base_uri": "https://localhost:8080/",
          "height": 68
        },
        "outputId": "0e70a49f-57be-40f6-91b8-9ae889c6912e"
      },
      "source": [
        "string1 = input(\"Enter string:\")\n",
        "string2 = input(\"Enter word:\")\n",
        "word = string1.split()\n",
        "count = 0\n",
        "for i in word:\n",
        "   if i == string2:\n",
        "      count=count+1\n",
        "print(count)"
      ],
      "execution_count": 9,
      "outputs": [
        {
          "output_type": "stream",
          "text": [
            "Enter string:Best day was this day\n",
            "Enter word:day\n",
            "2\n"
          ],
          "name": "stdout"
        }
      ]
    }
  ]
}