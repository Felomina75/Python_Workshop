{
  "nbformat": 4,
  "nbformat_minor": 0,
  "metadata": {
    "colab": {
      "name": "Day 2 session 1 Example programs.ipynb",
      "provenance": [],
      "collapsed_sections": [],
      "authorship_tag": "ABX9TyPhOXlkqsbDouTWMiUpRIL3",
      "include_colab_link": true
    },
    "kernelspec": {
      "name": "python3",
      "display_name": "Python 3"
    }
  },
  "cells": [
    {
      "cell_type": "markdown",
      "metadata": {
        "id": "view-in-github",
        "colab_type": "text"
      },
      "source": [
        "<a href=\"https://colab.research.google.com/github/Felomina75/Python_Workshop/blob/master/Day_2_session_1_Example_programs.ipynb\" target=\"_parent\"><img src=\"https://colab.research.google.com/assets/colab-badge.svg\" alt=\"Open In Colab\"/></a>"
      ]
    },
    {
      "cell_type": "code",
      "metadata": {
        "id": "JG5M5j7mMvq5",
        "colab_type": "code",
        "colab": {}
      },
      "source": [
        ""
      ],
      "execution_count": null,
      "outputs": []
    },
    {
      "cell_type": "markdown",
      "metadata": {
        "id": "53wtyKlzM4CM",
        "colab_type": "text"
      },
      "source": [
        "#**Program to find the largest number in a list.**"
      ]
    },
    {
      "cell_type": "code",
      "metadata": {
        "id": "dtagF7vDNGvz",
        "colab_type": "code",
        "colab": {
          "base_uri": "https://localhost:8080/",
          "height": 119
        },
        "outputId": "9cd48342-b6a2-4138-cc17-12516b602df9"
      },
      "source": [
        "a=[]\n",
        "n=int(input(\"Enter number of elements:\"))\n",
        "for i in range(1,n+1):\n",
        "    b=int(input(\"Enter element:\"))\n",
        "    a.append(b)\n",
        "a.sort()\n",
        "print(\"Largest element is:\",a[n-1])"
      ],
      "execution_count": 2,
      "outputs": [
        {
          "output_type": "stream",
          "text": [
            "Enter number of elements:4\n",
            "Enter element:68\n",
            "Enter element:78\n",
            "Enter element:87\n",
            "Enter element:77\n",
            "Largest element is: 87\n"
          ],
          "name": "stdout"
        }
      ]
    },
    {
      "cell_type": "markdown",
      "metadata": {
        "id": "ibbFiyTjNiBZ",
        "colab_type": "text"
      },
      "source": [
        "#**Pythonic Program to find the largest number in a list.**"
      ]
    },
    {
      "cell_type": "code",
      "metadata": {
        "id": "p-oykQxRNnby",
        "colab_type": "code",
        "colab": {
          "base_uri": "https://localhost:8080/",
          "height": 119
        },
        "outputId": "3c022e63-4fbe-4495-ca91-3b458a7a0a81"
      },
      "source": [
        "x=0\n",
        "print('The greatest no is',max([int(input(x)) for _ in range(int(input(\"Enter no\")))]))"
      ],
      "execution_count": 3,
      "outputs": [
        {
          "output_type": "stream",
          "text": [
            "Enter no4\n",
            "68\n",
            "78\n",
            "87\n",
            "77\n",
            "The greatest no is 87\n"
          ],
          "name": "stdout"
        }
      ]
    },
    {
      "cell_type": "markdown",
      "metadata": {
        "id": "AjO-DKuAN3_W",
        "colab_type": "text"
      },
      "source": [
        "#**Python Program to put the even and odd elements in a list into two different lists.** "
      ]
    },
    {
      "cell_type": "code",
      "metadata": {
        "id": "EeTOyqZWOObn",
        "colab_type": "code",
        "colab": {
          "base_uri": "https://localhost:8080/",
          "height": 153
        },
        "outputId": "04c8b8ed-2202-457a-a6e0-822779ccd7a1"
      },
      "source": [
        "a=[]\n",
        "n=int(input(\"Enter number of elements:\"))\n",
        "for i in range(1,n+1):\n",
        "    b=int(input(\"Enter element:\"))\n",
        "    a.append(b)\n",
        "even=[]\n",
        "odd=[]\n",
        "for j in a:\n",
        "    if(j%2==0):\n",
        "        even.append(j)\n",
        "    else:\n",
        "        odd.append(j)\n",
        "print(\"The even list\",even)\n",
        "print(\"The odd list\",odd)"
      ],
      "execution_count": 5,
      "outputs": [
        {
          "output_type": "stream",
          "text": [
            "Enter number of elements:5\n",
            "Enter element:6\n",
            "Enter element:8\n",
            "Enter element:4\n",
            "Enter element:5\n",
            "Enter element:3\n",
            "The even list [6, 8, 4]\n",
            "The odd list [5, 3]\n"
          ],
          "name": "stdout"
        }
      ]
    },
    {
      "cell_type": "markdown",
      "metadata": {
        "id": "P5U7jepSOiwX",
        "colab_type": "text"
      },
      "source": [
        "#**Pythonic Program to put the even and odd elements in a list into two different lists.**"
      ]
    },
    {
      "cell_type": "code",
      "metadata": {
        "id": "mteTejczOuws",
        "colab_type": "code",
        "colab": {
          "base_uri": "https://localhost:8080/",
          "height": 153
        },
        "outputId": "cc38f7e9-d0fb-4f3f-c128-1ebe319212c7"
      },
      "source": [
        "x=0\n",
        "l=[int(input(x)) for _ in range(int(input(\"Enter n\")))]\n",
        "print('even list is',[ i for i in l if i%2])\n",
        "print('odd list is',[i for i in l if not i%2])"
      ],
      "execution_count": 6,
      "outputs": [
        {
          "output_type": "stream",
          "text": [
            "Enter n5\n",
            "6\n",
            "8\n",
            "4\n",
            "5\n",
            "3\n",
            "even list is [5, 3]\n",
            "odd list is [6, 8, 4]\n"
          ],
          "name": "stdout"
        }
      ]
    },
    {
      "cell_type": "markdown",
      "metadata": {
        "id": "CmYap8qeO_qV",
        "colab_type": "text"
      },
      "source": [
        "#**Python Program to merge two lists and sort it.**"
      ]
    },
    {
      "cell_type": "code",
      "metadata": {
        "id": "5XbBlS1xPDLM",
        "colab_type": "code",
        "colab": {
          "base_uri": "https://localhost:8080/",
          "height": 221
        },
        "outputId": "cf56536f-3abe-4f38-89ad-5213b788dd92"
      },
      "source": [
        "a=[]\n",
        "c=[]\n",
        "n1=int(input(\"Enter number of elements:\"))\n",
        "for i in range(1,n1+1):\n",
        "    b=int(input(\"Enter element:\"))\n",
        "    a.append(b)\n",
        "n2=int(input(\"Enter number of elements:\"))\n",
        "for i in range(1,n2+1):\n",
        "    d=int(input(\"Enter element:\"))\n",
        "    c.append(d)\n",
        "new=a+c\n",
        "new.sort()\n",
        "print(\"Sorted list is:\",new)"
      ],
      "execution_count": 7,
      "outputs": [
        {
          "output_type": "stream",
          "text": [
            "Enter number of elements:4\n",
            "Enter element:6\n",
            "Enter element:8\n",
            "Enter element:3\n",
            "Enter element:2\n",
            "Enter number of elements:5\n",
            "Enter element:10\n",
            "Enter element:9\n",
            "Enter element:5\n",
            "Enter element:4\n",
            "Enter element:3\n",
            "Sorted list is: [2, 3, 3, 4, 5, 6, 8, 9, 10]\n"
          ],
          "name": "stdout"
        }
      ]
    },
    {
      "cell_type": "markdown",
      "metadata": {
        "id": "ozdtAzP1Pk3O",
        "colab_type": "text"
      },
      "source": [
        "#**Pythonic Program to merge two lists and sort it.**"
      ]
    },
    {
      "cell_type": "code",
      "metadata": {
        "id": "IyfmigiYPpRY",
        "colab_type": "code",
        "colab": {
          "base_uri": "https://localhost:8080/",
          "height": 187
        },
        "outputId": "ba1d6547-8d39-466a-8483-5c37573fe292"
      },
      "source": [
        "x=0\n",
        "l=[int(input(x)) for _ in range(int(input(\"Enter how many elements\")))]\n",
        "m=[int(input(x)) for _ in range(int(input(\"Enter how many elements \")))]\n",
        "new=l+m\n",
        "new.sort()\n",
        "print(\"Sorted list is:\",new)"
      ],
      "execution_count": 8,
      "outputs": [
        {
          "output_type": "stream",
          "text": [
            "Enter how many elements4\n",
            "7\n",
            "5\n",
            "9\n",
            "7\n",
            "Enter how many elements 3\n",
            "4\n",
            "6\n",
            "7\n",
            "Sorted list is: [4, 5, 6, 7, 7, 7, 9]\n"
          ],
          "name": "stdout"
        }
      ]
    },
    {
      "cell_type": "markdown",
      "metadata": {
        "id": "4WotQyJuP9bD",
        "colab_type": "text"
      },
      "source": [
        "#**Python Program to sort the list according to the second element in the sublist.**"
      ]
    },
    {
      "cell_type": "code",
      "metadata": {
        "id": "V1--MSZrQAEV",
        "colab_type": "code",
        "colab": {
          "base_uri": "https://localhost:8080/",
          "height": 34
        },
        "outputId": "68200a3c-6017-498b-892f-59cb329cf7a6"
      },
      "source": [
        "a=[['A',34],['B',21],['C',26],['E',29]]\n",
        "for i in range(0,len(a)):\n",
        "    for j in range(i+1,len(a)):\n",
        "        if(a[i][1]>a[j][1]):\n",
        "            temp=a[j]\n",
        "            a[j]=a[i]\n",
        "            a[i]=temp\n",
        "print(a)"
      ],
      "execution_count": 9,
      "outputs": [
        {
          "output_type": "stream",
          "text": [
            "[['B', 21], ['C', 26], ['E', 29], ['A', 34]]\n"
          ],
          "name": "stdout"
        }
      ]
    },
    {
      "cell_type": "markdown",
      "metadata": {
        "id": "-YyPQUfrQKOE",
        "colab_type": "text"
      },
      "source": [
        "#**Pythonic Program to sort the list according to the second element in the sublist.**"
      ]
    },
    {
      "cell_type": "code",
      "metadata": {
        "id": "eNIIk2VFQNty",
        "colab_type": "code",
        "colab": {
          "base_uri": "https://localhost:8080/",
          "height": 34
        },
        "outputId": "19d71430-416c-4c17-cdac-66329368d140"
      },
      "source": [
        "a=[['A',34],['B',21],['C',26],['E',29]]\n",
        "a.sort(key = lambda x: x[1]) \n",
        "print(a)"
      ],
      "execution_count": 10,
      "outputs": [
        {
          "output_type": "stream",
          "text": [
            "[['B', 21], ['C', 26], ['E', 29], ['A', 34]]\n"
          ],
          "name": "stdout"
        }
      ]
    },
    {
      "cell_type": "markdown",
      "metadata": {
        "id": "OkyozWRqQU07",
        "colab_type": "text"
      },
      "source": [
        "#**Python Program to find the second largest number in a list.**"
      ]
    },
    {
      "cell_type": "code",
      "metadata": {
        "id": "E-ZIn_SJQZm0",
        "colab_type": "code",
        "colab": {
          "base_uri": "https://localhost:8080/",
          "height": 119
        },
        "outputId": "946f7378-b980-4e1f-91e3-15f8e36003c8"
      },
      "source": [
        "a=[]\n",
        "n=int(input(\"Enter number of elements:\"))\n",
        "for i in range(1,n+1):\n",
        "    b=int(input(\"Enter element:\"))\n",
        "    a.append(b)\n",
        "for i in range(0,len(a)):\n",
        "    for j in range(0,len(a)-i-1):\n",
        "        if(a[j]>a[j+1]):\n",
        "            temp=a[j]\n",
        "            a[j]=a[j+1]\n",
        "            a[j+1]=temp \n",
        "print('Second largest number is:',a[n-2])"
      ],
      "execution_count": 11,
      "outputs": [
        {
          "output_type": "stream",
          "text": [
            "Enter number of elements:4\n",
            "Enter element:5\n",
            "Enter element:87\n",
            "Enter element:98\n",
            "Enter element:2\n",
            "Second largest number is: 87\n"
          ],
          "name": "stdout"
        }
      ]
    },
    {
      "cell_type": "markdown",
      "metadata": {
        "id": "RKApZFGQQlHB",
        "colab_type": "text"
      },
      "source": [
        "#**Pythonic Program to find the second largest number in a list.**"
      ]
    },
    {
      "cell_type": "code",
      "metadata": {
        "id": "eVGR-Y2XQqTR",
        "colab_type": "code",
        "colab": {
          "base_uri": "https://localhost:8080/",
          "height": 119
        },
        "outputId": "be857552-537d-4d05-a3f2-02d4775622bd"
      },
      "source": [
        "x=0\n",
        "l=[int(input(x)) for _ in range(int(input(\"Enter how many elements\")))]\n",
        "l.sort()\n",
        "print(\"Second largest element is :\",l[-2])"
      ],
      "execution_count": 12,
      "outputs": [
        {
          "output_type": "stream",
          "text": [
            "Enter how many elements4\n",
            "88\n",
            "89\n",
            "98\n",
            "87\n",
            "Second largest element is : 89\n"
          ],
          "name": "stdout"
        }
      ]
    },
    {
      "cell_type": "markdown",
      "metadata": {
        "id": "wHsc9C7fQ2hY",
        "colab_type": "text"
      },
      "source": [
        "#**Program to create a list of tuples with the first element as the number and the second element as the square of the number.**"
      ]
    },
    {
      "cell_type": "code",
      "metadata": {
        "id": "MQ3P8qfeRAF5",
        "colab_type": "code",
        "colab": {
          "base_uri": "https://localhost:8080/",
          "height": 68
        },
        "outputId": "661cdf6e-4aa9-428e-c54d-5cf7750aff77"
      },
      "source": [
        "l_range=int(input(\"Enter the lower range:\"))\n",
        "u_range=int(input(\"Enter the upper range:\"))\n",
        "a=[(x,x**2) for x in range(l_range,u_range+1)]\n",
        "print(a)"
      ],
      "execution_count": 13,
      "outputs": [
        {
          "output_type": "stream",
          "text": [
            "Enter the lower range:3\n",
            "Enter the upper range:7\n",
            "[(3, 9), (4, 16), (5, 25), (6, 36), (7, 49)]\n"
          ],
          "name": "stdout"
        }
      ]
    },
    {
      "cell_type": "markdown",
      "metadata": {
        "id": "J0RpWf23RNMc",
        "colab_type": "text"
      },
      "source": [
        "#**Pythonic Program to create a list of tuples with the first element as the number and the second element as the square of the number.**"
      ]
    },
    {
      "cell_type": "code",
      "metadata": {
        "id": "aNdcjrbRRTLd",
        "colab_type": "code",
        "colab": {
          "base_uri": "https://localhost:8080/",
          "height": 119
        },
        "outputId": "f76a090c-c058-4476-864d-807076de0385"
      },
      "source": [
        "a=[(x,x**2) for x in range(int(input(\"Enter the lower range:\")),\\\n",
        "                           int(input(\"Enter the upper range:\"))+1)]\n",
        "print(a)\n",
        "\n",
        "# Of course, We can write in the most pythonic way with one line ! as follows\n",
        "\n",
        "print([(x,x**2) for x in range(int(input(\"Enter the lower range:\")),\\\n",
        "                           int(input(\"Enter the upper range:\"))+1)])"
      ],
      "execution_count": 14,
      "outputs": [
        {
          "output_type": "stream",
          "text": [
            "Enter the lower range:2\n",
            "Enter the upper range:6\n",
            "[(2, 4), (3, 9), (4, 16), (5, 25), (6, 36)]\n",
            "Enter the lower range:3\n",
            "Enter the upper range:8\n",
            "[(3, 9), (4, 16), (5, 25), (6, 36), (7, 49), (8, 64)]\n"
          ],
          "name": "stdout"
        }
      ]
    },
    {
      "cell_type": "markdown",
      "metadata": {
        "id": "IwDkCcpiRn7c",
        "colab_type": "text"
      },
      "source": [
        "#**Python Program to generate random numbers from 1 to 20 and append them to the list.**\n",
        "\n"
      ]
    },
    {
      "cell_type": "code",
      "metadata": {
        "id": "wroaI4pPRs3T",
        "colab_type": "code",
        "colab": {
          "base_uri": "https://localhost:8080/",
          "height": 51
        },
        "outputId": "d74bab57-d313-4342-f9ff-40453d7f3f3a"
      },
      "source": [
        "import random\n",
        "a=[]\n",
        "n=int(input(\"Enter number of elements:\"))\n",
        "for j in range(n):\n",
        "    a.append(random.randint(1,20))\n",
        "print('Randomised list is: ',a)"
      ],
      "execution_count": 15,
      "outputs": [
        {
          "output_type": "stream",
          "text": [
            "Enter number of elements:4\n",
            "Randomised list is:  [10, 2, 12, 4]\n"
          ],
          "name": "stdout"
        }
      ]
    },
    {
      "cell_type": "markdown",
      "metadata": {
        "id": "0bVB41BCSBZ-",
        "colab_type": "text"
      },
      "source": [
        "#**Tuple Examples**\n",
        "\n",
        "#**Write python program to have a list of words  to sort them from longest to shortest using list of tuples**\n"
      ]
    },
    {
      "cell_type": "code",
      "metadata": {
        "id": "Jh22Wwy1SMb4",
        "colab_type": "code",
        "colab": {
          "base_uri": "https://localhost:8080/",
          "height": 34
        },
        "outputId": "2197ddec-8da9-4229-cb37-576dd1e88f83"
      },
      "source": [
        "txt = 'but soft what light in yonder window breaks'\n",
        "words = txt.split()\n",
        "t = list()\n",
        "for word in words:\n",
        "   t.append((len(word), word))\n",
        "t.sort(reverse=True)\n",
        "\n",
        "res = list()\n",
        "for length, word in t:\n",
        "    res.append(word)\n",
        "\n",
        "print(res)"
      ],
      "execution_count": 16,
      "outputs": [
        {
          "output_type": "stream",
          "text": [
            "['yonder', 'window', 'breaks', 'light', 'what', 'soft', 'but', 'in']\n"
          ],
          "name": "stdout"
        }
      ]
    },
    {
      "cell_type": "markdown",
      "metadata": {
        "id": "R6idhEt9SXSU",
        "colab_type": "text"
      },
      "source": [
        "#**Python program that assigns variables**"
      ]
    },
    {
      "cell_type": "code",
      "metadata": {
        "id": "foaRqFAIScFG",
        "colab_type": "code",
        "colab": {
          "base_uri": "https://localhost:8080/",
          "height": 51
        },
        "outputId": "0140e11a-ff1c-4f3a-a192-dddc2501f1e0"
      },
      "source": [
        "# Create packed tuple.\n",
        "pair = (\"dog\", \"cat\")\n",
        "\n",
        "# Unpack tuple.\n",
        "(key, value) = pair\n",
        "\n",
        "# Display unpacked variables.\n",
        "print(key)\n",
        "print(value)"
      ],
      "execution_count": 17,
      "outputs": [
        {
          "output_type": "stream",
          "text": [
            "dog\n",
            "cat\n"
          ],
          "name": "stdout"
        }
      ]
    },
    {
      "cell_type": "markdown",
      "metadata": {
        "id": "AyDt1s2vSloE",
        "colab_type": "text"
      },
      "source": [
        "#**Python program that searches tuples**"
      ]
    },
    {
      "cell_type": "code",
      "metadata": {
        "id": "i45a8FmfSoSr",
        "colab_type": "code",
        "colab": {
          "base_uri": "https://localhost:8080/",
          "height": 51
        },
        "outputId": "34fa580d-2539-48b7-f136-6997c1edc48c"
      },
      "source": [
        "pair = (\"dog\", \"cat\")\n",
        "\n",
        "# Search for a value.\n",
        "if \"cat\" in pair:\n",
        "    print(\"Cat found\")\n",
        "\n",
        "# Search for a value not present.\n",
        "if \"bird\" not in pair:\n",
        "    print(\"Bird not found\")"
      ],
      "execution_count": 18,
      "outputs": [
        {
          "output_type": "stream",
          "text": [
            "Cat found\n",
            "Bird not found\n"
          ],
          "name": "stdout"
        }
      ]
    },
    {
      "cell_type": "code",
      "metadata": {
        "id": "ArN-c90bOEKH",
        "colab_type": "code",
        "colab": {}
      },
      "source": [
        ""
      ],
      "execution_count": null,
      "outputs": []
    }
  ]
}